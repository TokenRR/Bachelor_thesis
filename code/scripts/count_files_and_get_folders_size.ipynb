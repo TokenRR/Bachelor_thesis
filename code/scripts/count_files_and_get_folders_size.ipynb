{
 "cells": [
  {
   "cell_type": "code",
   "execution_count": 1,
   "metadata": {},
   "outputs": [],
   "source": [
    "import os\n",
    "from typing import Union"
   ]
  },
  {
   "cell_type": "code",
   "execution_count": 2,
   "metadata": {},
   "outputs": [],
   "source": [
    "TEST_FOLDER_PATH = 'D:\\\\KPI\\\\Bachelor_thesis\\\\code\\\\data\\\\images\\\\test'\n",
    "TRAIN_FOLDER_PATH = 'D:\\\\KPI\\\\Bachelor_thesis\\\\code\\\\data\\\\images\\\\train'\n",
    "VAL_FOLDER_PATH = 'D:\\\\KPI\\\\Bachelor_thesis\\\\code\\\\data\\\\images\\\\val'\n",
    "\n",
    "RAW_TEST_FOLDER_PATH = 'D:\\\\KPI\\\\Bachelor_thesis\\\\code\\\\data\\\\raw_images\\\\test'\n",
    "RAW_TRAIN_FOLDER_PATH = 'D:\\\\KPI\\\\Bachelor_thesis\\\\code\\\\data\\\\raw_images\\\\train'\n",
    "RAW_VAL_FOLDER_PATH = 'D:\\\\KPI\\\\Bachelor_thesis\\\\code\\\\data\\\\raw_images\\\\val'"
   ]
  },
  {
   "cell_type": "code",
   "execution_count": 3,
   "metadata": {},
   "outputs": [
    {
     "name": "stdout",
     "output_type": "stream",
     "text": [
      "Total files in test folder  = 66232\n",
      "Total files in train folder = 445929\n",
      "Total files in val folder   = 32968\n",
      "\n",
      "Total files in raw_test folder  = 100000\n",
      "Total files in raw_train folder = 681482\n",
      "Total files in raw_val folder   = 50000\n"
     ]
    }
   ],
   "source": [
    "def count_files(path: str) -> int:\n",
    "    \"\"\"\n",
    "    Count the total number of files in a directory and its subdirectories.\n",
    "\n",
    "    Args:\n",
    "        path (str): The path to the directory.\n",
    "\n",
    "    Returns:\n",
    "        int: The total number of files.\n",
    "    \"\"\"\n",
    "    return sum(len(files) for _root, _dirs, files in os.walk(path))\n",
    "\n",
    "\n",
    "print(f\"Total files in test folder  = {count_files(TEST_FOLDER_PATH)}\")\n",
    "print(f\"Total files in train folder = {count_files(TRAIN_FOLDER_PATH)}\")\n",
    "print(f\"Total files in val folder   = {count_files(VAL_FOLDER_PATH)}\\n\")\n",
    "\n",
    "print(f\"Total files in raw_test folder  = {count_files(RAW_TEST_FOLDER_PATH)}\")\n",
    "print(f\"Total files in raw_train folder = {count_files(RAW_TRAIN_FOLDER_PATH)}\")\n",
    "print(f\"Total files in raw_val folder   = {count_files(RAW_VAL_FOLDER_PATH)}\")"
   ]
  },
  {
   "cell_type": "code",
   "execution_count": 4,
   "metadata": {},
   "outputs": [
    {
     "name": "stdout",
     "output_type": "stream",
     "text": [
      "Total size of test folder  = 8.36 GB\n",
      "Total size of train folder = 53.70 GB\n",
      "Total size of val folder   = 4.15 GB\n",
      "\n",
      "Total size of raw_test folder  = 12.67 GB\n",
      "Total size of raw_train folder = 77.26 GB\n",
      "Total size of raw_val folder   = 6.25 GB\n"
     ]
    }
   ],
   "source": [
    "def get_folder_size(path: str) -> Union[float, str]:\n",
    "    \"\"\"\n",
    "    Calculate the total size of files in a directory and its subdirectories.\n",
    "\n",
    "    Args:\n",
    "        path (str): The path to the directory.\n",
    "\n",
    "    Returns:\n",
    "        Union[float, str]: The total size of files, formatted as GB, TB, etc.\n",
    "    \"\"\"\n",
    "    total_size = 0\n",
    "    for root, _dirs, files in os.walk(path):\n",
    "        for file in files:\n",
    "            file_path = os.path.join(root, file)\n",
    "            total_size += os.path.getsize(file_path)\n",
    "    return format_size(total_size)\n",
    "\n",
    "\n",
    "def format_size(size: int) -> str:\n",
    "    \"\"\"\n",
    "    Format the size in bytes into a human-readable format.\n",
    "\n",
    "    Args:\n",
    "        size (int): The size in bytes.\n",
    "\n",
    "    Returns:\n",
    "        str: The formatted size with appropriate unit (e.g., GB, TB).\n",
    "    \"\"\"\n",
    "    for unit in ['bytes', 'KB', 'MB', 'GB', 'TB']:\n",
    "        if size < 1024.0:\n",
    "            return f\"{size:.2f} {unit}\"\n",
    "        size /= 1024.0\n",
    "\n",
    "\n",
    "print(f\"Total size of test folder  = {get_folder_size(TEST_FOLDER_PATH)}\")\n",
    "print(f\"Total size of train folder = {get_folder_size(TRAIN_FOLDER_PATH)}\")\n",
    "print(f\"Total size of val folder   = {get_folder_size(VAL_FOLDER_PATH)}\\n\")\n",
    "\n",
    "print(f\"Total size of raw_test folder  = {get_folder_size(RAW_TEST_FOLDER_PATH)}\")\n",
    "print(f\"Total size of raw_train folder = {get_folder_size(RAW_TRAIN_FOLDER_PATH)}\")\n",
    "print(f\"Total size of raw_val folder   = {get_folder_size(RAW_VAL_FOLDER_PATH)}\")"
   ]
  }
 ],
 "metadata": {
  "kernelspec": {
   "display_name": ".venv",
   "language": "python",
   "name": "python3"
  },
  "language_info": {
   "codemirror_mode": {
    "name": "ipython",
    "version": 3
   },
   "file_extension": ".py",
   "mimetype": "text/x-python",
   "name": "python",
   "nbconvert_exporter": "python",
   "pygments_lexer": "ipython3",
   "version": "3.11.3"
  }
 },
 "nbformat": 4,
 "nbformat_minor": 2
}
